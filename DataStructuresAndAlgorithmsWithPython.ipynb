{
  "nbformat": 4,
  "nbformat_minor": 0,
  "metadata": {
    "colab": {
      "provenance": [],
      "collapsed_sections": [
        "DPpJYTshgxhP",
        "MqIkMZRyzXC_",
        "DDKUpZdnOMdV",
        "DVVTCsJQmkW6",
        "CaJFCD4hmrqN",
        "TJ8V4ii-mwrv",
        "WaHiWsSrv-ey",
        "ChAq0HBi_quz"
      ],
      "authorship_tag": "ABX9TyOoSCk7yCzNg8ixYf0cMDis",
      "include_colab_link": true
    },
    "kernelspec": {
      "name": "python3",
      "display_name": "Python 3"
    },
    "language_info": {
      "name": "python"
    }
  },
  "cells": [
    {
      "cell_type": "markdown",
      "metadata": {
        "id": "view-in-github",
        "colab_type": "text"
      },
      "source": [
        "<a href=\"https://colab.research.google.com/github/Indian-otaku/Miscellaneous_python_programs/blob/main/DataStructuresAndAlgorithmsWithPython.ipynb\" target=\"_parent\"><img src=\"https://colab.research.google.com/assets/colab-badge.svg\" alt=\"Open In Colab\"/></a>"
      ]
    },
    {
      "cell_type": "markdown",
      "source": [
        "# Linked List"
      ],
      "metadata": {
        "id": "DPpJYTshgxhP"
      }
    },
    {
      "cell_type": "code",
      "source": [
        "class LinkedListNode:\n",
        "    def __init__(self, data, next=None):\n",
        "        self.data = data\n",
        "        self.next = next\n",
        "\n",
        "    def __repr__(self):\n",
        "        return f\"|{self.data}|\"\n",
        "\n",
        "class LinkedList:\n",
        "    def __init__(self):\n",
        "        self.first = None\n",
        "\n",
        "    def __repr__(self):\n",
        "        node = self.first\n",
        "        out = str(node)\n",
        "        node = node.next\n",
        "        while node:\n",
        "            out += \"-->\" + str(node)\n",
        "            node = node.next\n",
        "        return out\n",
        "\n",
        "    def __len__(self):\n",
        "        counter = 0\n",
        "        node = self.first\n",
        "        while node:\n",
        "            counter += 1\n",
        "            node = node.next\n",
        "        return counter\n",
        "\n",
        "    def insert_at_beginning(self, data):\n",
        "        if not self.first:\n",
        "            self.first = LinkedListNode(data, None)\n",
        "            return\n",
        "        self.first = LinkedListNode(data, self.first)\n",
        "\n",
        "    def insert_at_end(self, data):\n",
        "        if not self.first:\n",
        "            self.first = LinkedListNode(data, None)\n",
        "            return\n",
        "        node = self.first\n",
        "        while node.next:\n",
        "            node = node.next\n",
        "        node.next = LinkedListNode(data, None)\n",
        "\n",
        "    def insert_at_index(self, index, data):\n",
        "        length = len(self)\n",
        "        if index > length or index < 0:\n",
        "            raise Exception(\"Invalid index.\")\n",
        "        if index == 0:\n",
        "            self.insert_at_beginning(data)\n",
        "            return\n",
        "        node = self.first\n",
        "        counter = 0\n",
        "        while counter < index-1:\n",
        "            node = node.next\n",
        "            counter += 1\n",
        "        node.next = LinkedListNode(data, node.next)\n",
        "\n",
        "    def insert_after_value(self, value, data):\n",
        "        node = self.first\n",
        "        counter = 0\n",
        "        while node:\n",
        "            if node.data == value:\n",
        "                node.next = LinkedListNode(data, node.next)\n",
        "                return\n",
        "            node = node.next\n",
        "            counter += 1\n",
        "        raise Exception(\"Value not found in Linked List.\")\n",
        "\n",
        "    def create_from_list(self, data_list=[]):\n",
        "        if self.first:\n",
        "            raise Exception(\"Linked List is not empty.\")\n",
        "        if not data_list:\n",
        "            raise Exception(\"Input List is empty.\")\n",
        "        self.first = LinkedListNode(data_list[0], None)\n",
        "        node = self.first\n",
        "        for element in data_list[1:]:\n",
        "            node.next = LinkedListNode(element, None)\n",
        "            node = node.next\n",
        "\n",
        "    def delete_at_beginning(self):\n",
        "        if not self.first:\n",
        "            raise Exception(\"Linked List is empty.\")\n",
        "        node = self.first\n",
        "        self.first = self.first.next\n",
        "        return node\n",
        "\n",
        "    def delete_at_end(self):\n",
        "        if not self.first:\n",
        "            raise Exception(\"Linked List is empty.\")\n",
        "        if not self.first.next:\n",
        "            return self.delete_at_beginning()\n",
        "        node = self.first\n",
        "        while node.next.next:\n",
        "            node = node.next\n",
        "        output = node.next\n",
        "        node.next = None\n",
        "        return output\n",
        "\n",
        "    def delete_at_index(self, index):\n",
        "        ll_len = len(self)\n",
        "        if index >= ll_len or index < 0:\n",
        "            raise Exception(\"Invalid index.\")\n",
        "        if index == 0:\n",
        "            return self.delete_at_beginning()\n",
        "        node = self.first\n",
        "        counter = 0\n",
        "        while counter < index-1:\n",
        "            counter += 1\n",
        "            node = node.next\n",
        "        output = node.next\n",
        "        node.next = node.next.next\n",
        "        return output\n",
        "\n",
        "    def delete_with_value(self, value):\n",
        "        if self.first.data == value:\n",
        "            return self.delete_at_beginning()\n",
        "        counter = 1\n",
        "        node = self.first\n",
        "        while node.next:\n",
        "            if node.next.data == value:\n",
        "                output = node.next\n",
        "                node.next = node.next.next\n",
        "                return output\n",
        "            counter += 1\n",
        "            node = node.next\n",
        "        raise Exception(\"Value not found in Linked List.\")\n",
        "\n",
        "    def get_index(self, value):\n",
        "        node = self.first\n",
        "        if not node:\n",
        "            raise Exception(\"Linked List is empty.\")\n",
        "        counter = 0\n",
        "        while node:\n",
        "            if node.data == value:\n",
        "                return counter\n",
        "            counter += 1\n",
        "            node = node.next\n",
        "        return -1\n",
        "\n",
        "    def get_value(self, index):\n",
        "        node = self.first\n",
        "        if not node:\n",
        "            raise Exception(\"Linked List is empty.\")\n",
        "        if index >= len(self) or index < 0:\n",
        "            raise Exception(\"Invalid index.\")\n",
        "        counter = 0\n",
        "        while counter < index:\n",
        "            counter += 1\n",
        "            node = node.next\n",
        "        return node.data\n",
        "\n",
        "\n"
      ],
      "metadata": {
        "id": "z9Rt-axLgzYS"
      },
      "execution_count": 4,
      "outputs": []
    },
    {
      "cell_type": "code",
      "source": [
        "ll = LinkedList()\n",
        "ll.create_from_list([23, 45, 122, 12, 42, 434])\n",
        "print(ll)"
      ],
      "metadata": {
        "colab": {
          "base_uri": "https://localhost:8080/"
        },
        "id": "am8kVbW-jRlX",
        "outputId": "6a3fab64-d48b-406b-b213-4bc30578c46a"
      },
      "execution_count": 5,
      "outputs": [
        {
          "output_type": "stream",
          "name": "stdout",
          "text": [
            "|23|-->|45|-->|122|-->|12|-->|42|-->|434|\n"
          ]
        }
      ]
    },
    {
      "cell_type": "markdown",
      "source": [
        "# Doubly Linked List"
      ],
      "metadata": {
        "id": "MqIkMZRyzXC_"
      }
    },
    {
      "cell_type": "code",
      "source": [
        "class DoublyLinkedListNode:\n",
        "    def __init__(self, data, prev=None, next=None):\n",
        "        self.data = data\n",
        "        self.next = next\n",
        "        self.prev = prev\n",
        "\n",
        "    def __repr__(self):\n",
        "        return f\"|{self.data}|\"\n",
        "\n",
        "class DoublyLinkedList:\n",
        "    def __init__(self):\n",
        "        self.first = None\n",
        "        self.last = None\n",
        "\n",
        "    def __repr__(self):\n",
        "        node = self.first\n",
        "        out = str(node)\n",
        "        node = node.next\n",
        "        while node:\n",
        "            out += \"<->\" + str(node)\n",
        "            node = node.next\n",
        "        return out\n",
        "\n",
        "    def __len__(self):\n",
        "        counter = 0\n",
        "        node = self.first\n",
        "        while node:\n",
        "            counter += 1\n",
        "            node = node.next\n",
        "        return counter\n",
        "\n",
        "    def insert_at_beginning(self, data):\n",
        "        if not self.first or not self.last:\n",
        "            self.first = DoublyLinkedListNode(data, None, None)\n",
        "            self.last = self.first\n",
        "            return\n",
        "        new_node = DoublyLinkedListNode(data, None, self.first)\n",
        "        self.first.prev = new_node\n",
        "        self.first = new_node\n",
        "\n",
        "    def insert_at_end(self, data):\n",
        "        if not self.first or not self.last:\n",
        "            self.insert_at_beginning(data)\n",
        "            return\n",
        "        new_node = DoublyLinkedListNode(data, self.last, None)\n",
        "        self.last.next = new_node\n",
        "        self.last = new_node\n",
        "\n",
        "    def insert_at_index(self, index, data):\n",
        "        length = len(self)\n",
        "        if index > length or index < 0:\n",
        "            raise Exception(\"Invalid index.\")\n",
        "        if index == 0:\n",
        "            self.insert_at_beginning(data)\n",
        "            return\n",
        "        if index == length:\n",
        "            self.insert_at_end(data)\n",
        "            return\n",
        "        node = self.first\n",
        "        counter = 0\n",
        "        while counter < index-1:\n",
        "            node = node.next\n",
        "            counter += 1\n",
        "        new_node = DoublyLinkedListNode(data, node, node.next)\n",
        "        node.next.prev = new_node\n",
        "        node.next = new_node\n",
        "\n",
        "    def insert_after_value(self, value, data):\n",
        "        if self.first.data == value:\n",
        "            self.insert_at_beginning(data)\n",
        "            return\n",
        "        if self.last.data == value:\n",
        "            self.insert_at_end(data)\n",
        "            return\n",
        "        node = self.first.next\n",
        "        while node:\n",
        "            if node.data == value:\n",
        "                new_node = DoublyLinkedListNode(data, node, node.next)\n",
        "                node.next.prev = new_node\n",
        "                node.next = new_node\n",
        "                return\n",
        "            node = node.next\n",
        "        raise Exception(\"Value not found in Linked List.\")\n",
        "\n",
        "    def create_from_list(self, data_list=[]):\n",
        "        if self.first or self.last:\n",
        "            raise Exception(\"Linked List is not empty.\")\n",
        "        if not data_list:\n",
        "            raise Exception(\"Input List is empty.\")\n",
        "        self.first = DoublyLinkedListNode(data_list[0], None, None)\n",
        "        node = self.first\n",
        "        for element in data_list[1:]:\n",
        "            node.next = DoublyLinkedListNode(element, node, None)\n",
        "            node = node.next\n",
        "        self.last = node\n",
        "\n",
        "    def delete_at_beginning(self):\n",
        "        if not self.first:\n",
        "            raise Exception(\"Linked List is empty.\")\n",
        "        node = self.first\n",
        "        if self.first == self.last:\n",
        "            self.first = None\n",
        "            self.last = None\n",
        "            return node\n",
        "        self.first.next.prev = None\n",
        "        self.first = self.first.next\n",
        "        node.next = None\n",
        "        return node\n",
        "\n",
        "    def delete_at_end(self):\n",
        "        if not self.first:\n",
        "            raise Exception(\"Linked List is empty.\")\n",
        "        node = self.last\n",
        "        if self.first == self.last:\n",
        "            self.first = None\n",
        "            self.last = None\n",
        "            return node\n",
        "        self.last.prev.next = None\n",
        "        self.last = node.prev\n",
        "        node.prev = None\n",
        "        return node\n",
        "\n",
        "    def delete_at_index(self, index):\n",
        "        ll_len = len(self)\n",
        "        if index >= ll_len or index < 0:\n",
        "            raise Exception(\"Invalid index.\")\n",
        "        if index == 0:\n",
        "            return self.delete_at_beginning()\n",
        "        if index == ll_len-1:\n",
        "            return self.delete_at_end()\n",
        "        node = self.first\n",
        "        counter = 0\n",
        "        while counter < index-1:\n",
        "            counter += 1\n",
        "            node = node.next\n",
        "        output = node.next\n",
        "        output.prev.next = output.next\n",
        "        output.next.prev = output.prev\n",
        "        output.prev = None\n",
        "        output.next = None\n",
        "        return output\n",
        "\n",
        "    def delete_with_value(self, value):\n",
        "        if self.first.data == value:\n",
        "            return self.delete_at_beginning()\n",
        "        node = self.first\n",
        "        while node.next:\n",
        "            if node.next.data == value:\n",
        "                output = node.next\n",
        "                if output != self.last:\n",
        "                    output.prev.next = output.next\n",
        "                    output.next.prev = output.prev\n",
        "                else:\n",
        "                    self.last = node\n",
        "                    node.next = None\n",
        "                output.prev = None\n",
        "                output.next = None\n",
        "                return output\n",
        "            node = node.next\n",
        "        raise Exception(\"Value not found in Linked List.\")\n",
        "\n",
        "    def get_index(self, value):\n",
        "        node = self.first\n",
        "        if not node:\n",
        "            raise Exception(\"Linked List is empty.\")\n",
        "        counter = 0\n",
        "        while node:\n",
        "            if node.data == value:\n",
        "                return counter\n",
        "            counter += 1\n",
        "            node = node.next\n",
        "        return -1\n",
        "\n",
        "    def get_value(self, index):\n",
        "        node = self.first\n",
        "        if not node:\n",
        "            raise Exception(\"Linked List is empty.\")\n",
        "        if index >= len(self) or index < 0:\n",
        "            raise Exception(\"Invalid index.\")\n",
        "        counter = 0\n",
        "        while counter < index:\n",
        "            counter += 1\n",
        "            node = node.next\n",
        "        return node.data\n",
        "\n",
        "\n"
      ],
      "metadata": {
        "id": "FeKoRrNWzZo5"
      },
      "execution_count": 6,
      "outputs": []
    },
    {
      "cell_type": "code",
      "source": [
        "dll = DoublyLinkedList()\n",
        "dll.create_from_list([1, 3, 4, 2, 5, 7])\n",
        "print(dll, \"\\t\", dll.first, dll.first.prev, dll.last, dll.last.next)\n",
        "dll.insert_at_end(44)\n",
        "print(dll, \"\\t\", dll.first, dll.first.prev, dll.last, dll.last.next)\n",
        "dll.delete_with_value(5)\n",
        "print(dll, \"\\t\", dll.first, dll.first.prev, dll.last, dll.last.next)\n",
        "\n",
        "dll.get_value(2)"
      ],
      "metadata": {
        "colab": {
          "base_uri": "https://localhost:8080/"
        },
        "id": "n7XPeO0T8CsD",
        "outputId": "97576bfc-3c4d-45d0-b75b-acabdc34ac86"
      },
      "execution_count": 7,
      "outputs": [
        {
          "output_type": "stream",
          "name": "stdout",
          "text": [
            "|1|<->|3|<->|4|<->|2|<->|5|<->|7| \t |1| None |7| None\n",
            "|1|<->|3|<->|4|<->|2|<->|5|<->|7|<->|44| \t |1| None |44| None\n",
            "|1|<->|3|<->|4|<->|2|<->|7|<->|44| \t |1| None |44| None\n"
          ]
        },
        {
          "output_type": "execute_result",
          "data": {
            "text/plain": [
              "4"
            ]
          },
          "metadata": {},
          "execution_count": 7
        }
      ]
    },
    {
      "cell_type": "markdown",
      "source": [
        "# Hash Table"
      ],
      "metadata": {
        "id": "DDKUpZdnOMdV"
      }
    },
    {
      "cell_type": "code",
      "source": [
        "class HashTable:\n",
        "    def __init__(self, max_size=10):\n",
        "        self.max_size = max_size\n",
        "        self.memory = [[] for i in range(self.max_size)]\n",
        "\n",
        "    def _hash_function(self, key):\n",
        "        out = 0\n",
        "        for c in str(key):\n",
        "            out += ord(c)\n",
        "        return out % self.max_size\n",
        "\n",
        "    def __getitem__(self, key):\n",
        "        key_hash = self._hash_function(key)\n",
        "        for i, (key_i, val_i) in enumerate(self.memory[key_hash]):\n",
        "            if key_i == key:\n",
        "                return val_i\n",
        "\n",
        "    def __setitem__(self, key, value):\n",
        "        key_hash = self._hash_function(key)\n",
        "        for i, (key_i, val_i) in enumerate(self.memory[key_hash]):\n",
        "            if key_i == key:\n",
        "                self.memory[key_hash][i] = (key, value)\n",
        "                return\n",
        "        self.memory[key_hash].append((key, value))\n",
        "\n",
        "    def __delitem__(self, key):\n",
        "        key_hash = self._hash_function(key)\n",
        "        for i, (key_i, val_i) in enumerate(self.memory[key_hash]):\n",
        "            if key_i == key:\n",
        "                del self.memory[key_hash][i]\n",
        "                return\n",
        "        raise Exception(\"Given key doesn't exist!\")"
      ],
      "metadata": {
        "id": "kWSHabjaOP6m"
      },
      "execution_count": 8,
      "outputs": []
    },
    {
      "cell_type": "code",
      "source": [
        "ht = HashTable(10)\n",
        "ht[\"3\"] = 5\n",
        "ht[\"14\"] = 15\n",
        "ht[\"76\"] =35\n",
        "print(ht.memory)"
      ],
      "metadata": {
        "id": "ZIb2vpzXYGmw",
        "colab": {
          "base_uri": "https://localhost:8080/"
        },
        "outputId": "1eef5448-5891-47bb-f9e1-ab3ffde4bd15"
      },
      "execution_count": 9,
      "outputs": [
        {
          "output_type": "stream",
          "name": "stdout",
          "text": [
            "[[], [('3', 5), ('14', 15)], [], [], [], [], [], [], [], [('76', 35)]]\n"
          ]
        }
      ]
    },
    {
      "cell_type": "code",
      "source": [
        "ht[\"14\"]"
      ],
      "metadata": {
        "colab": {
          "base_uri": "https://localhost:8080/"
        },
        "id": "B1y48b6lbksB",
        "outputId": "e4ebdc26-683b-44f7-bca1-002f0201af1e"
      },
      "execution_count": 10,
      "outputs": [
        {
          "output_type": "execute_result",
          "data": {
            "text/plain": [
              "15"
            ]
          },
          "metadata": {},
          "execution_count": 10
        }
      ]
    },
    {
      "cell_type": "code",
      "source": [
        "del ht[\"3\"]"
      ],
      "metadata": {
        "id": "jlA-haU_cP4h"
      },
      "execution_count": 11,
      "outputs": []
    },
    {
      "cell_type": "code",
      "source": [
        "ht.memory"
      ],
      "metadata": {
        "colab": {
          "base_uri": "https://localhost:8080/"
        },
        "id": "_Q5ilWTzdF6I",
        "outputId": "b6a4584d-6432-4012-ef95-0a8dde4b9db0"
      },
      "execution_count": 12,
      "outputs": [
        {
          "output_type": "execute_result",
          "data": {
            "text/plain": [
              "[[], [('14', 15)], [], [], [], [], [], [], [], [('76', 35)]]"
            ]
          },
          "metadata": {},
          "execution_count": 12
        }
      ]
    },
    {
      "cell_type": "code",
      "source": [
        "for i in range(25):\n",
        "    ht[str(i)] = i"
      ],
      "metadata": {
        "id": "n2a4uYq0dYmn"
      },
      "execution_count": 13,
      "outputs": []
    },
    {
      "cell_type": "code",
      "source": [
        "ht.memory"
      ],
      "metadata": {
        "colab": {
          "base_uri": "https://localhost:8080/"
        },
        "id": "ITOOB_dRdnJd",
        "outputId": "8b3df70c-27fc-4b33-cfbc-983cad0b10d0"
      },
      "execution_count": 14,
      "outputs": [
        {
          "output_type": "execute_result",
          "data": {
            "text/plain": [
              "[[('2', 2), ('13', 13), ('22', 22)],\n",
              " [('14', 14), ('3', 3), ('23', 23)],\n",
              " [('4', 4), ('15', 15), ('24', 24)],\n",
              " [('5', 5), ('16', 16)],\n",
              " [('6', 6), ('17', 17)],\n",
              " [('7', 7), ('18', 18)],\n",
              " [('8', 8), ('19', 19)],\n",
              " [('9', 9), ('10', 10)],\n",
              " [('0', 0), ('11', 11), ('20', 20)],\n",
              " [('76', 35), ('1', 1), ('12', 12), ('21', 21)]]"
            ]
          },
          "metadata": {},
          "execution_count": 14
        }
      ]
    },
    {
      "cell_type": "code",
      "source": [
        "ht[\"14\"]"
      ],
      "metadata": {
        "colab": {
          "base_uri": "https://localhost:8080/"
        },
        "id": "nSCh2It3drW9",
        "outputId": "68da16da-76c5-4357-9d2e-b4715dbea274"
      },
      "execution_count": 15,
      "outputs": [
        {
          "output_type": "execute_result",
          "data": {
            "text/plain": [
              "14"
            ]
          },
          "metadata": {},
          "execution_count": 15
        }
      ]
    },
    {
      "cell_type": "markdown",
      "source": [
        "# Stack"
      ],
      "metadata": {
        "id": "DVVTCsJQmkW6"
      }
    },
    {
      "cell_type": "code",
      "source": [
        "from collections import deque\n",
        "\n",
        "class Stack:\n",
        "    def __init__(self):\n",
        "        self.s = deque()\n",
        "\n",
        "    def __repr__(self):\n",
        "        return f\"Stack{list(self.s)}\"\n",
        "\n",
        "    def push(self, value):\n",
        "        self.s.append(value)\n",
        "\n",
        "    def pop(self):\n",
        "        return self.s.pop()\n",
        "\n",
        "    def peek(self):\n",
        "        return self.s[-1]\n",
        "\n",
        "    def is_empty(self):\n",
        "        return len(self.s)==0"
      ],
      "metadata": {
        "id": "pQ4h1-b0mpfv"
      },
      "execution_count": 16,
      "outputs": []
    },
    {
      "cell_type": "code",
      "source": [
        "stack = Stack()\n",
        "stack.push(5)\n",
        "stack.push(44)\n",
        "stack.push(4)\n",
        "print(stack)\n",
        "stack.pop()\n",
        "stack.pop()\n",
        "stack.pop()\n",
        "stack.is_empty()"
      ],
      "metadata": {
        "colab": {
          "base_uri": "https://localhost:8080/"
        },
        "id": "H7miHICssBLD",
        "outputId": "e3dcfdf4-4551-4dcb-d330-7d34f6e16e48"
      },
      "execution_count": 17,
      "outputs": [
        {
          "output_type": "stream",
          "name": "stdout",
          "text": [
            "Stack[5, 44, 4]\n"
          ]
        },
        {
          "output_type": "execute_result",
          "data": {
            "text/plain": [
              "True"
            ]
          },
          "metadata": {},
          "execution_count": 17
        }
      ]
    },
    {
      "cell_type": "code",
      "source": [
        "def is_paranthesis_balanced(equation):\n",
        "    s = Stack()\n",
        "    for c in equation:\n",
        "        if c == \"(\":\n",
        "            s.push(c)\n",
        "        elif c == \")\":\n",
        "            if s.is_empty():\n",
        "                return False\n",
        "            s.pop()\n",
        "    return s.is_empty()\n",
        "\n",
        "print(is_paranthesis_balanced(\"9+(645+(33/44)))\"))\n",
        "print(is_paranthesis_balanced(\"9+(645+(33/44))\"))"
      ],
      "metadata": {
        "colab": {
          "base_uri": "https://localhost:8080/"
        },
        "id": "SZj0ZX1jsBNq",
        "outputId": "19c687d6-30c1-40a7-baeb-8ada85db84bb"
      },
      "execution_count": 18,
      "outputs": [
        {
          "output_type": "stream",
          "name": "stdout",
          "text": [
            "False\n",
            "True\n"
          ]
        }
      ]
    },
    {
      "cell_type": "markdown",
      "source": [
        "# Queue"
      ],
      "metadata": {
        "id": "CaJFCD4hmrqN"
      }
    },
    {
      "cell_type": "code",
      "source": [
        "from collections import deque\n",
        "\n",
        "class Queue:\n",
        "    def __init__(self):\n",
        "        self.q = deque()\n",
        "\n",
        "    def __repr__(self):\n",
        "        return f\"Queue{list(self.q)}\"\n",
        "\n",
        "    def enqueue(self, value):\n",
        "        self.q.appendleft(value)\n",
        "\n",
        "    def dequeue(self):\n",
        "        return self.q.pop()\n",
        "\n",
        "    def peek(self):\n",
        "        return self.q[-1]\n",
        "\n",
        "    def is_empty(self):\n",
        "        return len(self.q)==0"
      ],
      "metadata": {
        "id": "2HpECNmImtQT"
      },
      "execution_count": 19,
      "outputs": []
    },
    {
      "cell_type": "code",
      "source": [
        "queue = Queue()\n",
        "queue.enqueue(4)\n",
        "queue.enqueue(44)\n",
        "queue.enqueue(9)\n",
        "print(queue)\n",
        "queue.dequeue()\n",
        "print(queue)\n",
        "queue.dequeue()\n",
        "print(queue)"
      ],
      "metadata": {
        "colab": {
          "base_uri": "https://localhost:8080/"
        },
        "id": "b3OgbhNvtrVZ",
        "outputId": "a0d341f4-9b79-4175-b62d-3421196c5866"
      },
      "execution_count": 20,
      "outputs": [
        {
          "output_type": "stream",
          "name": "stdout",
          "text": [
            "Queue[9, 44, 4]\n",
            "Queue[9, 44]\n",
            "Queue[9]\n"
          ]
        }
      ]
    },
    {
      "cell_type": "markdown",
      "source": [
        "# Tree"
      ],
      "metadata": {
        "id": "TJ8V4ii-mwrv"
      }
    },
    {
      "cell_type": "code",
      "source": [
        "from collections import deque\n",
        "\n",
        "class TreeNode:\n",
        "    def __init__(self, data):\n",
        "        self.data = data\n",
        "        self.parent = None\n",
        "        self.childrens = []\n",
        "\n",
        "    def __repr__(self):\n",
        "        return f\"TreeNode[{self.data}]\"\n",
        "\n",
        "    def add_child(self, child):\n",
        "        assert isinstance(child, TreeNode), \"Child should be of TreeNode type.\"\n",
        "        child.parent = self\n",
        "        self.childrens.append(child)\n",
        "\n",
        "    def _print_childrens(self, root, prefix=\"\"):\n",
        "        for child in root.childrens:\n",
        "            print(prefix, \"|---\", child, sep=\"\")\n",
        "            self._print_childrens(child, prefix+\"    \")\n",
        "\n",
        "    def print_tree(self):\n",
        "        root = self\n",
        "        print(root)\n",
        "        self._print_childrens(root)\n",
        "\n",
        "    def tree_search(self, data, dfs=True):\n",
        "        \"\"\"\n",
        "        Performs a DFS and returns the node having the given data.\n",
        "        If data is not present then returns None.\n",
        "        \"\"\"\n",
        "        if dfs:\n",
        "            if self.data == data:\n",
        "                return self\n",
        "            for child in self.childrens:\n",
        "                result = child.tree_search(data)\n",
        "                if result:\n",
        "                    return result\n",
        "        else:\n",
        "            queue = deque()\n",
        "            queue.appendleft(self)\n",
        "            while queue:\n",
        "                node = queue.pop()\n",
        "                if node.data == data:\n",
        "                    return node\n",
        "                for child in node.childrens:\n",
        "                    queue.appendleft(child)\n",
        "        return None\n",
        "\n",
        "    def print_subtree(self, data):\n",
        "        node = self.tree_search(data, dfs=False)\n",
        "        node.print_tree()\n",
        "\n"
      ],
      "metadata": {
        "id": "8iT55iYQmx_r"
      },
      "execution_count": 21,
      "outputs": []
    },
    {
      "cell_type": "code",
      "source": [
        "queue = deque()\n",
        "len(queue)"
      ],
      "metadata": {
        "colab": {
          "base_uri": "https://localhost:8080/"
        },
        "id": "cKeEcVf75pbE",
        "outputId": "d886858e-cbc2-4038-b3e0-6b8b7f1616ce"
      },
      "execution_count": 22,
      "outputs": [
        {
          "output_type": "execute_result",
          "data": {
            "text/plain": [
              "0"
            ]
          },
          "metadata": {},
          "execution_count": 22
        }
      ]
    },
    {
      "cell_type": "code",
      "source": [
        "l1 = TreeNode(\"World\")\n",
        "\n",
        "l11 = TreeNode(\"India\")\n",
        "l111 = TreeNode(\"Kerala\")\n",
        "l1111 = TreeNode(\"Trivandrum\")\n",
        "l111.add_child(l1111)\n",
        "l112 = TreeNode(\"Tamil Nadu\")\n",
        "l113 = TreeNode(\"Odissa\")\n",
        "l11.add_child(l111)\n",
        "l11.add_child(l112)\n",
        "l11.add_child(l113)\n",
        "\n",
        "l1.add_child(l11)\n",
        "\n",
        "l12 = TreeNode(\"Japan\")\n",
        "l121 = TreeNode(\"Tokyo\")\n",
        "l122 = TreeNode(\"Kyoto\")\n",
        "l123 = TreeNode(\"Hokkaido\")\n",
        "l12.add_child(l121)\n",
        "l12.add_child(l122)\n",
        "l12.add_child(l123)\n",
        "\n",
        "l1.add_child(l12)"
      ],
      "metadata": {
        "id": "ubtOXTRRzR35"
      },
      "execution_count": 23,
      "outputs": []
    },
    {
      "cell_type": "code",
      "source": [
        "l1.print_tree()"
      ],
      "metadata": {
        "colab": {
          "base_uri": "https://localhost:8080/"
        },
        "id": "abm81D3j0blh",
        "outputId": "776c02ae-8ecd-4a75-b4c7-f8dd9591b368"
      },
      "execution_count": 24,
      "outputs": [
        {
          "output_type": "stream",
          "name": "stdout",
          "text": [
            "TreeNode[World]\n",
            "|---TreeNode[India]\n",
            "    |---TreeNode[Kerala]\n",
            "        |---TreeNode[Trivandrum]\n",
            "    |---TreeNode[Tamil Nadu]\n",
            "    |---TreeNode[Odissa]\n",
            "|---TreeNode[Japan]\n",
            "    |---TreeNode[Tokyo]\n",
            "    |---TreeNode[Kyoto]\n",
            "    |---TreeNode[Hokkaido]\n"
          ]
        }
      ]
    },
    {
      "cell_type": "code",
      "source": [
        "l1.tree_search(\"Hokkaido\", dfs=True)"
      ],
      "metadata": {
        "colab": {
          "base_uri": "https://localhost:8080/"
        },
        "id": "CMIlkbwK1VeI",
        "outputId": "2b3e265d-f810-4338-f358-3da54f4a22bc"
      },
      "execution_count": 25,
      "outputs": [
        {
          "output_type": "execute_result",
          "data": {
            "text/plain": [
              "TreeNode[Hokkaido]"
            ]
          },
          "metadata": {},
          "execution_count": 25
        }
      ]
    },
    {
      "cell_type": "code",
      "source": [
        "l1.tree_search(\"Hokkaido\", dfs=False)"
      ],
      "metadata": {
        "colab": {
          "base_uri": "https://localhost:8080/"
        },
        "id": "t6RBevxL6-6M",
        "outputId": "7b8e1a87-4b66-429a-fe41-99780562d944"
      },
      "execution_count": 26,
      "outputs": [
        {
          "output_type": "execute_result",
          "data": {
            "text/plain": [
              "TreeNode[Hokkaido]"
            ]
          },
          "metadata": {},
          "execution_count": 26
        }
      ]
    },
    {
      "cell_type": "code",
      "source": [
        "l1.print_subtree(\"India\")"
      ],
      "metadata": {
        "colab": {
          "base_uri": "https://localhost:8080/"
        },
        "id": "o1XLxq9X7q5T",
        "outputId": "68368a36-cdbf-4431-bacf-bec576c85fe1"
      },
      "execution_count": 27,
      "outputs": [
        {
          "output_type": "stream",
          "name": "stdout",
          "text": [
            "TreeNode[India]\n",
            "|---TreeNode[Kerala]\n",
            "    |---TreeNode[Trivandrum]\n",
            "|---TreeNode[Tamil Nadu]\n",
            "|---TreeNode[Odissa]\n"
          ]
        }
      ]
    },
    {
      "cell_type": "markdown",
      "source": [
        "# Binary Search Tree"
      ],
      "metadata": {
        "id": "WaHiWsSrv-ey"
      }
    },
    {
      "cell_type": "code",
      "source": [
        "class BSTNode:\n",
        "    def __init__(self, data):\n",
        "        self.data = data\n",
        "        self.left = None\n",
        "        self.right = None\n",
        "\n",
        "    def add_child(self, data):\n",
        "        if self.data == data:\n",
        "            return\n",
        "        elif self.data > data:\n",
        "            # Left\n",
        "            if self.left:\n",
        "                self.left.add_child(data)\n",
        "            else:\n",
        "                self.left = BSTNode(data)\n",
        "        else:\n",
        "            # Right\n",
        "            if self.right:\n",
        "                self.right.add_child(data)\n",
        "            else:\n",
        "                self.right = BSTNode(data)\n",
        "\n",
        "    def preorder_traversal(self):\n",
        "        order = []\n",
        "        order.append(self.data)\n",
        "        if self.left:\n",
        "            order.extend(self.left.preorder_traversal())\n",
        "        if self.right:\n",
        "            order.extend(self.right.preorder_traversal())\n",
        "        return order\n",
        "\n",
        "    def inorder_traversal(self):\n",
        "        order = []\n",
        "        if self.left:\n",
        "            order.extend(self.left.inorder_traversal())\n",
        "        order.append(self.data)\n",
        "        if self.right:\n",
        "            order.extend(self.right.inorder_traversal())\n",
        "        return order\n",
        "\n",
        "    def postorder_traversal(self):\n",
        "        order = []\n",
        "        if self.left:\n",
        "            order.extend(self.left.preorder_traversal())\n",
        "        if self.right:\n",
        "            order.extend(self.right.preorder_traversal())\n",
        "        order.append(self.data)\n",
        "        return order\n",
        "\n",
        "    def find_max(self):\n",
        "        if self.right:\n",
        "            return self.right.find_max()\n",
        "        return self.data\n",
        "\n",
        "    def find_min(self):\n",
        "        if self.left:\n",
        "            return self.left.find_min()\n",
        "        return self.data\n",
        "\n",
        "    def sorted_values(self):\n",
        "        return self.inorder_traversal()\n",
        "\n",
        "    def delete(self, data):\n",
        "        if self.data > data:\n",
        "            if self.left:\n",
        "                self.left = self.left.delete(data)\n",
        "            else:\n",
        "                raise Exception(\"Data not present in Binary Search Tree.\")\n",
        "        elif self.data < data:\n",
        "            if self.right:\n",
        "                self.right = self.right.delete(data)\n",
        "            else:\n",
        "                raise Exception(\"Data not present in Binary Search Tree.\")\n",
        "        elif self.data != data:\n",
        "            raise Exception(\"Data not present in Binary Search Tree.\")\n",
        "        else:\n",
        "            if self.left is None and self.right is None:\n",
        "                return None\n",
        "            elif self.left is None:\n",
        "                return self.right\n",
        "            elif self.right is None:\n",
        "                return self.left\n",
        "            left_max = self.left.find_min()\n",
        "            self.data = left_max\n",
        "            self.left = self.left.delete(left_max)\n",
        "        return self\n"
      ],
      "metadata": {
        "id": "-3GmIUGpwAUM"
      },
      "execution_count": 28,
      "outputs": []
    },
    {
      "cell_type": "code",
      "source": [
        "def build_tree(data_list):\n",
        "    root = BSTNode(data_list[0])\n",
        "    for data in data_list[1:]:\n",
        "        root.add_child(data)\n",
        "    return root\n",
        "\n",
        "\n",
        "bst = build_tree([5, 22, 2, 3, 5, 6, 3, 7, -2, 0, 83, 3])"
      ],
      "metadata": {
        "id": "VolIZMfXxB71"
      },
      "execution_count": 29,
      "outputs": []
    },
    {
      "cell_type": "code",
      "source": [
        "bst.preorder_traversal()"
      ],
      "metadata": {
        "colab": {
          "base_uri": "https://localhost:8080/"
        },
        "id": "17XAuwouxaED",
        "outputId": "c34031d8-71ac-40d0-e2e3-f58b255fdd2c"
      },
      "execution_count": 30,
      "outputs": [
        {
          "output_type": "execute_result",
          "data": {
            "text/plain": [
              "[5, 2, -2, 0, 3, 22, 6, 7, 83]"
            ]
          },
          "metadata": {},
          "execution_count": 30
        }
      ]
    },
    {
      "cell_type": "code",
      "source": [
        "bst.inorder_traversal()"
      ],
      "metadata": {
        "colab": {
          "base_uri": "https://localhost:8080/"
        },
        "id": "ukmgyMiixgNq",
        "outputId": "a69a9de5-02bb-4867-8342-ce39e16164d1"
      },
      "execution_count": 31,
      "outputs": [
        {
          "output_type": "execute_result",
          "data": {
            "text/plain": [
              "[-2, 0, 2, 3, 5, 6, 7, 22, 83]"
            ]
          },
          "metadata": {},
          "execution_count": 31
        }
      ]
    },
    {
      "cell_type": "code",
      "source": [
        "bst.postorder_traversal()"
      ],
      "metadata": {
        "colab": {
          "base_uri": "https://localhost:8080/"
        },
        "id": "8l6Trf3n2Ww3",
        "outputId": "525797cf-d072-49bd-c8ef-9db8edff2e42"
      },
      "execution_count": 32,
      "outputs": [
        {
          "output_type": "execute_result",
          "data": {
            "text/plain": [
              "[2, -2, 0, 3, 22, 6, 7, 83, 5]"
            ]
          },
          "metadata": {},
          "execution_count": 32
        }
      ]
    },
    {
      "cell_type": "code",
      "source": [
        "bst.find_max()"
      ],
      "metadata": {
        "colab": {
          "base_uri": "https://localhost:8080/"
        },
        "id": "Hvqtb9c_2Y8X",
        "outputId": "e4a72f4b-fb4e-459c-ca88-01b90d4595f7"
      },
      "execution_count": 33,
      "outputs": [
        {
          "output_type": "execute_result",
          "data": {
            "text/plain": [
              "83"
            ]
          },
          "metadata": {},
          "execution_count": 33
        }
      ]
    },
    {
      "cell_type": "code",
      "source": [
        "bst.find_min()"
      ],
      "metadata": {
        "colab": {
          "base_uri": "https://localhost:8080/"
        },
        "id": "GYbgDYfl3A9_",
        "outputId": "02ebc70c-2f6d-4d45-97dd-fba55a1c5feb"
      },
      "execution_count": 34,
      "outputs": [
        {
          "output_type": "execute_result",
          "data": {
            "text/plain": [
              "-2"
            ]
          },
          "metadata": {},
          "execution_count": 34
        }
      ]
    },
    {
      "cell_type": "code",
      "source": [
        "bst.delete(22)"
      ],
      "metadata": {
        "colab": {
          "base_uri": "https://localhost:8080/"
        },
        "id": "UbnpdOiD3CJF",
        "outputId": "282cba31-13bf-45a0-bd9f-ea7fc9b75da5"
      },
      "execution_count": 35,
      "outputs": [
        {
          "output_type": "execute_result",
          "data": {
            "text/plain": [
              "<__main__.BSTNode at 0x7ea1b830c4c0>"
            ]
          },
          "metadata": {},
          "execution_count": 35
        }
      ]
    },
    {
      "cell_type": "code",
      "source": [
        "bst.inorder_traversal()"
      ],
      "metadata": {
        "colab": {
          "base_uri": "https://localhost:8080/"
        },
        "id": "mTqyiwlL6CVd",
        "outputId": "9164f9c8-54ec-4734-878c-3ff98e21bc72"
      },
      "execution_count": 36,
      "outputs": [
        {
          "output_type": "execute_result",
          "data": {
            "text/plain": [
              "[-2, 0, 2, 3, 5, 7, 6, 83]"
            ]
          },
          "metadata": {},
          "execution_count": 36
        }
      ]
    },
    {
      "cell_type": "code",
      "source": [
        "bst.preorder_traversal()"
      ],
      "metadata": {
        "colab": {
          "base_uri": "https://localhost:8080/"
        },
        "id": "lDmsdgWr6E3s",
        "outputId": "64f3a7dc-47e0-4bb1-f74d-b5f0ae132737"
      },
      "execution_count": 37,
      "outputs": [
        {
          "output_type": "execute_result",
          "data": {
            "text/plain": [
              "[5, 2, -2, 0, 3, 6, 7, 83]"
            ]
          },
          "metadata": {},
          "execution_count": 37
        }
      ]
    },
    {
      "cell_type": "code",
      "source": [
        "bst.sorted_values()"
      ],
      "metadata": {
        "colab": {
          "base_uri": "https://localhost:8080/"
        },
        "id": "qR6ZHiqkoJZZ",
        "outputId": "218adee1-fbe3-488d-a258-abd7e426bb9b"
      },
      "execution_count": 38,
      "outputs": [
        {
          "output_type": "execute_result",
          "data": {
            "text/plain": [
              "[-2, 0, 2, 3, 5, 7, 6, 83]"
            ]
          },
          "metadata": {},
          "execution_count": 38
        }
      ]
    },
    {
      "cell_type": "markdown",
      "source": [
        "# Graphs"
      ],
      "metadata": {
        "id": "ChAq0HBi_quz"
      }
    },
    {
      "cell_type": "code",
      "source": [
        "from typing import List, Dict, FrozenSet, Sequence, Optional, Set, Iterable, Tuple\n",
        "from collections import deque\n",
        "from copy import deepcopy\n",
        "\n",
        "Node = int | str\n",
        "\n",
        "class PriorityQueue:\n",
        "    def __init__(self):\n",
        "        self._pq = []\n",
        "\n",
        "    def add(self, element: Node, cost: int) -> None:\n",
        "        i = len(self._pq)-1\n",
        "        temp_pq = deepcopy(self._pq) + [None]\n",
        "        while i >= 0 and self._pq[i][1] > cost:\n",
        "            temp_pq[i+1] = temp_pq[i]\n",
        "            i -= 1\n",
        "        temp_pq[i+1] = (element, cost)\n",
        "        self._pq = temp_pq\n",
        "\n",
        "    def remove(self) -> Tuple[Node, int]:\n",
        "        return self._pq.pop(0)\n",
        "\n",
        "    def empty(self) -> bool:\n",
        "        return len(self._pq) == 0\n",
        "\n",
        "class Graph:\n",
        "    def __init__(self, V: Sequence[Node] = [], E: Sequence[Sequence[Node]] = [], W: Optional[Sequence[int]] = None) -> None:\n",
        "        self._E: Set[FrozenSet[Node]] = set(frozenset((u, v)) for (u, v) in E)\n",
        "        self._W: Dict[FrozenSet[Node], int]\n",
        "        if W is not None:\n",
        "            self._W = {frozenset(edge): weight for (edge, weight) in zip(E, W)}\n",
        "        else:\n",
        "            self._W = {frozenset(edge): 1 for edge in E}\n",
        "        self._neighbors: Dict[Node, Set[Node]] = {}\n",
        "        for v in V:\n",
        "            self.add_node(v)\n",
        "        for u, v in E:\n",
        "            self.add_edge(u, v)\n",
        "\n",
        "    def add_node(self, v: Node) -> None:\n",
        "        if v not in self._neighbors:\n",
        "            self._neighbors[v] = set()\n",
        "\n",
        "    def add_edge(self, u: Node, v: Node, w: Optional[int] = None) -> None:\n",
        "        self.add_node(u)\n",
        "        self.add_node(v)\n",
        "        self._E.add(frozenset((u, v)))\n",
        "        self._neighbors[u].add(v)\n",
        "        self._neighbors[v].add(u)\n",
        "        if w is not None:\n",
        "            self._W[frozenset((u, v))] = w\n",
        "        else:\n",
        "            self._W[frozenset((u, v))] = 1\n",
        "\n",
        "    def degree(self, v: Node) -> int:\n",
        "        return len(self._neighbors[v])\n",
        "\n",
        "    def edge_weight(self, u: Node, v: Node) -> int:\n",
        "        return self._W[frozenset((u, v))]\n",
        "\n",
        "    def node_neighbors(self, v: Node) -> Iterable[Node]:\n",
        "        return iter(self._neighbors[v])\n",
        "\n",
        "    @property\n",
        "    def nodes(self) -> Iterable[Node]:\n",
        "        return iter(self._neighbors)\n",
        "\n",
        "    @property\n",
        "    def edges(self) -> Iterable[FrozenSet[Node]]:\n",
        "        return iter(self._E)\n",
        "\n",
        "    @property\n",
        "    def num_nodes(self) -> int:\n",
        "        return len(self._neighbors)\n",
        "\n",
        "    @property\n",
        "    def num_edges(self) -> int:\n",
        "        return len(self._E)\n",
        "\n",
        "    def dft(self, source: Node) -> List[Node]:\n",
        "        path: List[Node] = []\n",
        "        frontier: deque[Node] = deque()\n",
        "        explored: set[Node] = set()\n",
        "        node: Node\n",
        "        frontier.append(source)\n",
        "        while frontier:\n",
        "            node = frontier.pop()\n",
        "            if node not in explored:\n",
        "                explored.add(node)\n",
        "                path.append(node)\n",
        "                for n in self.node_neighbors(node):\n",
        "                    if n not in explored:\n",
        "                        frontier.append(n)\n",
        "        return path\n",
        "\n",
        "    def bft(self, source: Node) -> List[Node]:\n",
        "        path: List[Node] = []\n",
        "        frontier: deque[Node] = deque()\n",
        "        explored: set[Node] = set()\n",
        "        node: Node\n",
        "        frontier.appendleft(source)\n",
        "        while frontier:\n",
        "            node = frontier.pop()\n",
        "            if node not in explored:\n",
        "                explored.add(node)\n",
        "                path.append(node)\n",
        "                for n in self.node_neighbors(node):\n",
        "                    if n not in explored:\n",
        "                        frontier.appendleft(n)\n",
        "        return path\n",
        "\n",
        "    def dfs(self, source: Node, destination: Node) -> Tuple[List[Node], int]:\n",
        "        path_cost: int = 0\n",
        "        path: List[Node] = []\n",
        "        frontier: deque[Node] = deque()\n",
        "        explored: set[Node] = set()\n",
        "        parent: Dict[Node, Node] = {}\n",
        "        node: Node\n",
        "        if source == destination:\n",
        "            return [source], 0\n",
        "        frontier.append(source)\n",
        "        while frontier:\n",
        "            node = frontier.pop()\n",
        "            if node == destination:\n",
        "                path.append(node)\n",
        "                while True:\n",
        "                    node_parent = parent[node]\n",
        "                    path.append(node_parent)\n",
        "                    path_cost += self.edge_weight(node, node_parent)\n",
        "                    node = node_parent\n",
        "                    if node == source:\n",
        "                        break\n",
        "                return path[::-1], path_cost\n",
        "            for n in self.node_neighbors(node):\n",
        "                if n not in explored:\n",
        "                    frontier.append(n)\n",
        "                    parent[n] = node\n",
        "                    explored.add(n)\n",
        "        return [], -1\n",
        "\n",
        "    def bfs(self, source: Node, destination: Node) -> Tuple[List[Node], int]:\n",
        "        path_cost: int = 0\n",
        "        path: List[Node] = []\n",
        "        frontier: deque[Node] = deque()\n",
        "        explored: set[Node] = set()\n",
        "        parent: Dict[Node, Node] = {}\n",
        "        node: Node\n",
        "        frontier.append(source)\n",
        "        while frontier:\n",
        "            node = frontier.pop()\n",
        "            if node == destination:\n",
        "                path.append(node)\n",
        "                while True:\n",
        "                    node_parent = parent[node]\n",
        "                    path.append(node_parent)\n",
        "                    path_cost += self.edge_weight(node, node_parent)\n",
        "                    node = node_parent\n",
        "                    if node == source:\n",
        "                        break\n",
        "                return path[::-1], path_cost\n",
        "            for n in self.node_neighbors(node):\n",
        "                if n not in explored:\n",
        "                    frontier.appendleft(n)\n",
        "                    parent[n] = node\n",
        "                    explored.add(n)\n",
        "        return [], -1\n",
        "\n",
        "    def ucs(self, source: Node, destination: Node) -> Tuple[List[Node], int]:\n",
        "        path_cost: int = 0\n",
        "        path: List[Node] = []\n",
        "        frontier: PriorityQueue = PriorityQueue()\n",
        "        parent: Dict[Node, Tuple[Node, int]] = {}\n",
        "        node: Node\n",
        "        cost: int\n",
        "        frontier.add(source, 0)\n",
        "        while not frontier.empty():\n",
        "            node, cost = frontier.remove()\n",
        "            if node == destination:\n",
        "                path.append(node)\n",
        "                path_cost = cost\n",
        "                node_parent, cost = parent[node]\n",
        "                while True:\n",
        "                    path.append(node_parent)\n",
        "                    node = node_parent\n",
        "                    if node == source:\n",
        "                        break\n",
        "                    node_parent, cost = parent[node]\n",
        "                return path[::-1], path_cost\n",
        "            for n in self.node_neighbors(node):\n",
        "                new_cost = cost + self.edge_weight(node, n)\n",
        "                if n in parent:\n",
        "                    if new_cost < parent[n][1]:\n",
        "                        frontier.add(n, new_cost)\n",
        "                        parent[n] = (node, new_cost)\n",
        "                else:\n",
        "                    frontier.add(n, new_cost)\n",
        "                    parent[n] = (node, new_cost)\n",
        "        return [], -1\n"
      ],
      "metadata": {
        "id": "VfIf-_qxoIzu"
      },
      "execution_count": 39,
      "outputs": []
    },
    {
      "cell_type": "markdown",
      "source": [
        "### We can use the following graph to check whether the algorithms are working properly or not:\n",
        "\n",
        "![WhatsApp Image 2024-08-24 at 11.17.27_484f20bf.jpg](data:image/jpeg;base64,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)"
      ],
      "metadata": {
        "id": "bWIXybRe6-3-"
      }
    },
    {
      "cell_type": "code",
      "source": [
        "g = Graph()\n",
        "g.add_edge(\"a\", \"b\", 1)\n",
        "g.add_edge(\"b\", \"c\", 2)\n",
        "g.add_edge(\"c\", \"e\", 3)\n",
        "g.add_edge(\"a\", \"d\", 4)\n",
        "g.add_edge(\"a\", \"e\", 5)\n",
        "g.add_edge(\"d\", \"g\", 1)\n",
        "g.add_edge(\"g\", \"h\", 7)\n",
        "g.add_edge(\"d\", \"h\", 7)\n",
        "g.add_edge(\"h\", \"f\", 1)\n",
        "g.add_edge(\"f\", \"i\", 3)\n",
        "g.add_edge(\"e\", \"f\", 6)\n",
        "g.add_edge(\"h\", \"i\", 5)\n",
        "g.add_edge(\"a\", \"f\", 12)\n",
        "\n",
        "start_state = \"a\"\n",
        "goal_state = \"i\"\n",
        "\n",
        "print(\"Depth First Traversal:\", g.dft(start_state))\n",
        "print(\"Breadth First Traversal:\" , g.bft(start_state))\n",
        "print(\"Depth First Search: {} with path cost: {}\".format(*g.dfs(start_state, goal_state)))\n",
        "print(\"Breadth First Search: {} with path cost: {}\".format(*g.bfs(start_state, goal_state)))\n",
        "print(\"Uniform Cost Search: {} with path cost: {}\".format(*g.ucs(start_state, goal_state)))"
      ],
      "metadata": {
        "id": "Zp5mV6dChZv6",
        "colab": {
          "base_uri": "https://localhost:8080/"
        },
        "outputId": "120ea415-4870-487d-c80e-4f827c339f2c"
      },
      "execution_count": 40,
      "outputs": [
        {
          "output_type": "stream",
          "name": "stdout",
          "text": [
            "Depth First Traversal: ['a', 'f', 'i', 'h', 'g', 'd', 'e', 'c', 'b']\n",
            "Breadth First Traversal: ['a', 'e', 'b', 'd', 'f', 'c', 'h', 'g', 'i']\n",
            "Depth First Search: ['a', 'f', 'i'] with path cost: 15\n",
            "Breadth First Search: ['a', 'f', 'i'] with path cost: 15\n",
            "Uniform Cost Search: ['a', 'e', 'f', 'i'] with path cost: 14\n"
          ]
        }
      ]
    },
    {
      "cell_type": "code",
      "source": [],
      "metadata": {
        "id": "brECI1EN7al_"
      },
      "execution_count": 40,
      "outputs": []
    }
  ]
}